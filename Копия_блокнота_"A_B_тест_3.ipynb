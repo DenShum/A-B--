{
  "nbformat": 4,
  "nbformat_minor": 0,
  "metadata": {
    "colab": {
      "name": "Копия блокнота \"A/B_тест_3.ipynb",
      "provenance": [],
      "collapsed_sections": [],
      "authorship_tag": "ABX9TyOtq/lF/cnnOfq75eiJcYSY",
      "include_colab_link": true
    },
    "kernelspec": {
      "name": "python3",
      "display_name": "Python 3"
    },
    "language_info": {
      "name": "python"
    }
  },
  "cells": [
    {
      "cell_type": "markdown",
      "metadata": {
        "id": "view-in-github",
        "colab_type": "text"
      },
      "source": [
        "<a href=\"https://colab.research.google.com/github/DenShum/A-B-test/blob/main/%D0%9A%D0%BE%D0%BF%D0%B8%D1%8F_%D0%B1%D0%BB%D0%BE%D0%BA%D0%BD%D0%BE%D1%82%D0%B0_%22A_B_%D1%82%D0%B5%D1%81%D1%82_3.ipynb\" target=\"_parent\"><img src=\"https://colab.research.google.com/assets/colab-badge.svg\" alt=\"Open In Colab\"/></a>"
      ]
    },
    {
      "cell_type": "markdown",
      "metadata": {
        "id": "HAYqjC4yXOiC"
      },
      "source": [
        "Используя тестовые данные рассчитайте 3 метрики. Для каждой метрики:\n",
        "\n",
        "● Посчитайте среднее\n",
        "\n",
        "● Посчитайте медиану\n",
        "\n",
        "● Посчитайте 95-персентиль\n",
        "\n",
        "● Визуализируйте распределение частотным графиком и boxplot (“ящиком с усами”)\n",
        "\n",
        "\n",
        "Метрики:\n",
        "\n",
        "1 - Выполненные поездки: Ride_completed\n",
        "\n",
        "2 - Ввод данных маршрута: Price_seen\n",
        "\n",
        "3 - Дистанция, км: Distance\n",
        "\n",
        "4 - Возраст: Age\n"
      ]
    },
    {
      "cell_type": "code",
      "metadata": {
        "id": "_DGp51KpXHYm",
        "colab": {
          "base_uri": "https://localhost:8080/"
        },
        "outputId": "5e838d0a-f82e-455b-dcc1-7ba9fa6c13b7"
      },
      "source": [
        "import pandas as pd\n",
        "df = pd.read_csv('/content/Netology_A_B-testing_HW_1.csv')\n",
        "print(df.shape) #количество стр. и столб.\n",
        "df.info()\n",
        "# df = df.apply(pd.to_numeric,errors='coerce') #меняем тип данных на числовые\n",
        "# df.describe().T"
      ],
      "execution_count": null,
      "outputs": [
        {
          "output_type": "stream",
          "name": "stdout",
          "text": [
            "(101500, 16)\n",
            "<class 'pandas.core.frame.DataFrame'>\n",
            "RangeIndex: 101500 entries, 0 to 101499\n",
            "Data columns (total 16 columns):\n",
            " #   Column             Non-Null Count   Dtype  \n",
            "---  ------             --------------   -----  \n",
            " 0   Unnamed: 0         101500 non-null  int64  \n",
            " 1   date               101500 non-null  object \n",
            " 2   user_id            101500 non-null  int64  \n",
            " 3   hour               101500 non-null  int64  \n",
            " 4   app_opened         101500 non-null  int64  \n",
            " 5   price_seen         101500 non-null  int64  \n",
            " 6   order_made         101500 non-null  int64  \n",
            " 7   surge              91431 non-null   object \n",
            " 8   ride_completed     101500 non-null  int64  \n",
            " 9   user_cancelled     101500 non-null  int64  \n",
            " 10  age                101500 non-null  int64  \n",
            " 11  os                 101500 non-null  object \n",
            " 12  city_center_order  101500 non-null  int64  \n",
            " 13  order_class        101500 non-null  object \n",
            " 14  distance           91431 non-null   float64\n",
            " 15  rfm                101500 non-null  object \n",
            "dtypes: float64(1), int64(10), object(5)\n",
            "memory usage: 12.4+ MB\n"
          ]
        }
      ]
    },
    {
      "cell_type": "code",
      "metadata": {
        "id": "rWlNh5Ccb4XX"
      },
      "source": [
        "df.head(10).T"
      ],
      "execution_count": null,
      "outputs": []
    },
    {
      "cell_type": "code",
      "metadata": {
        "id": "ppFHZ6f26bj0"
      },
      "source": [
        "df['surge'] = df['surge'].fillna('no surge')# заменяем NaN на 'no surge' в кол.surge\n",
        "df.loc[(df.distance > 0), 'order_made'] = 1 # ставим 1 в кол.'order_made', если в кол.distance есть расстояние\n",
        "df.head(10).T # ОЧИЩЕННЫЙ ДАТАФРЕЙМ !!!"
      ],
      "execution_count": null,
      "outputs": []
    },
    {
      "cell_type": "markdown",
      "metadata": {
        "id": "DtvViX_KAe3h"
      },
      "source": [
        "Среднее значение и медиану для метрик берем через метод describe():\n",
        "\n",
        "1 - Выполненные поездки: Ride_completed -0,62 и 1\n",
        "\n",
        "2 - Ввод данных маршрута: Price_seen -0,73 и 1\n",
        "\n",
        "3 - Дистанция, км: Distance -5,3 и 4,3 соответственно\n",
        "\n",
        "4 - Возраст: age - 40,5 и 40 соответственно"
      ]
    },
    {
      "cell_type": "code",
      "metadata": {
        "colab": {
          "base_uri": "https://localhost:8080/",
          "height": 388
        },
        "id": "NrZEC5AT5Q5O",
        "outputId": "c440b7ef-e78d-42ce-99c5-01ac1e8db074"
      },
      "source": [
        "df.describe().T"
      ],
      "execution_count": null,
      "outputs": [
        {
          "output_type": "execute_result",
          "data": {
            "text/html": [
              "<div>\n",
              "<style scoped>\n",
              "    .dataframe tbody tr th:only-of-type {\n",
              "        vertical-align: middle;\n",
              "    }\n",
              "\n",
              "    .dataframe tbody tr th {\n",
              "        vertical-align: top;\n",
              "    }\n",
              "\n",
              "    .dataframe thead th {\n",
              "        text-align: right;\n",
              "    }\n",
              "</style>\n",
              "<table border=\"1\" class=\"dataframe\">\n",
              "  <thead>\n",
              "    <tr style=\"text-align: right;\">\n",
              "      <th></th>\n",
              "      <th>count</th>\n",
              "      <th>mean</th>\n",
              "      <th>std</th>\n",
              "      <th>min</th>\n",
              "      <th>25%</th>\n",
              "      <th>50%</th>\n",
              "      <th>75%</th>\n",
              "      <th>max</th>\n",
              "    </tr>\n",
              "  </thead>\n",
              "  <tbody>\n",
              "    <tr>\n",
              "      <th>Unnamed: 0</th>\n",
              "      <td>101500.0</td>\n",
              "      <td>50749.500000</td>\n",
              "      <td>29300.670499</td>\n",
              "      <td>0.000000</td>\n",
              "      <td>25374.750000</td>\n",
              "      <td>50749.500000</td>\n",
              "      <td>76124.250000</td>\n",
              "      <td>101499.000000</td>\n",
              "    </tr>\n",
              "    <tr>\n",
              "      <th>user_id</th>\n",
              "      <td>101500.0</td>\n",
              "      <td>549874.802207</td>\n",
              "      <td>258600.104176</td>\n",
              "      <td>100093.000000</td>\n",
              "      <td>328223.000000</td>\n",
              "      <td>548827.000000</td>\n",
              "      <td>773051.000000</td>\n",
              "      <td>999978.000000</td>\n",
              "    </tr>\n",
              "    <tr>\n",
              "      <th>hour</th>\n",
              "      <td>101500.0</td>\n",
              "      <td>11.481429</td>\n",
              "      <td>6.917522</td>\n",
              "      <td>0.000000</td>\n",
              "      <td>5.000000</td>\n",
              "      <td>11.000000</td>\n",
              "      <td>17.000000</td>\n",
              "      <td>23.000000</td>\n",
              "    </tr>\n",
              "    <tr>\n",
              "      <th>app_opened</th>\n",
              "      <td>101500.0</td>\n",
              "      <td>1.000000</td>\n",
              "      <td>0.000000</td>\n",
              "      <td>1.000000</td>\n",
              "      <td>1.000000</td>\n",
              "      <td>1.000000</td>\n",
              "      <td>1.000000</td>\n",
              "      <td>1.000000</td>\n",
              "    </tr>\n",
              "    <tr>\n",
              "      <th>price_seen</th>\n",
              "      <td>101500.0</td>\n",
              "      <td>0.900798</td>\n",
              "      <td>0.298934</td>\n",
              "      <td>0.000000</td>\n",
              "      <td>1.000000</td>\n",
              "      <td>1.000000</td>\n",
              "      <td>1.000000</td>\n",
              "      <td>1.000000</td>\n",
              "    </tr>\n",
              "    <tr>\n",
              "      <th>order_made</th>\n",
              "      <td>101500.0</td>\n",
              "      <td>0.900798</td>\n",
              "      <td>0.298934</td>\n",
              "      <td>0.000000</td>\n",
              "      <td>1.000000</td>\n",
              "      <td>1.000000</td>\n",
              "      <td>1.000000</td>\n",
              "      <td>1.000000</td>\n",
              "    </tr>\n",
              "    <tr>\n",
              "      <th>ride_completed</th>\n",
              "      <td>101500.0</td>\n",
              "      <td>0.620365</td>\n",
              "      <td>0.485299</td>\n",
              "      <td>0.000000</td>\n",
              "      <td>0.000000</td>\n",
              "      <td>1.000000</td>\n",
              "      <td>1.000000</td>\n",
              "      <td>1.000000</td>\n",
              "    </tr>\n",
              "    <tr>\n",
              "      <th>user_cancelled</th>\n",
              "      <td>101500.0</td>\n",
              "      <td>0.111025</td>\n",
              "      <td>0.314164</td>\n",
              "      <td>0.000000</td>\n",
              "      <td>0.000000</td>\n",
              "      <td>0.000000</td>\n",
              "      <td>0.000000</td>\n",
              "      <td>1.000000</td>\n",
              "    </tr>\n",
              "    <tr>\n",
              "      <th>age</th>\n",
              "      <td>101500.0</td>\n",
              "      <td>40.471764</td>\n",
              "      <td>13.536322</td>\n",
              "      <td>18.000000</td>\n",
              "      <td>29.000000</td>\n",
              "      <td>40.000000</td>\n",
              "      <td>52.000000</td>\n",
              "      <td>69.000000</td>\n",
              "    </tr>\n",
              "    <tr>\n",
              "      <th>city_center_order</th>\n",
              "      <td>101500.0</td>\n",
              "      <td>0.571675</td>\n",
              "      <td>0.494838</td>\n",
              "      <td>0.000000</td>\n",
              "      <td>0.000000</td>\n",
              "      <td>1.000000</td>\n",
              "      <td>1.000000</td>\n",
              "      <td>1.000000</td>\n",
              "    </tr>\n",
              "    <tr>\n",
              "      <th>distance</th>\n",
              "      <td>91431.0</td>\n",
              "      <td>5.371152</td>\n",
              "      <td>4.118531</td>\n",
              "      <td>0.010946</td>\n",
              "      <td>2.438335</td>\n",
              "      <td>4.279565</td>\n",
              "      <td>7.129814</td>\n",
              "      <td>40.268966</td>\n",
              "    </tr>\n",
              "  </tbody>\n",
              "</table>\n",
              "</div>"
            ],
            "text/plain": [
              "                      count           mean  ...            75%            max\n",
              "Unnamed: 0         101500.0   50749.500000  ...   76124.250000  101499.000000\n",
              "user_id            101500.0  549874.802207  ...  773051.000000  999978.000000\n",
              "hour               101500.0      11.481429  ...      17.000000      23.000000\n",
              "app_opened         101500.0       1.000000  ...       1.000000       1.000000\n",
              "price_seen         101500.0       0.900798  ...       1.000000       1.000000\n",
              "order_made         101500.0       0.900798  ...       1.000000       1.000000\n",
              "ride_completed     101500.0       0.620365  ...       1.000000       1.000000\n",
              "user_cancelled     101500.0       0.111025  ...       0.000000       1.000000\n",
              "age                101500.0      40.471764  ...      52.000000      69.000000\n",
              "city_center_order  101500.0       0.571675  ...       1.000000       1.000000\n",
              "distance            91431.0       5.371152  ...       7.129814      40.268966\n",
              "\n",
              "[11 rows x 8 columns]"
            ]
          },
          "metadata": {},
          "execution_count": 3
        }
      ]
    },
    {
      "cell_type": "code",
      "metadata": {
        "colab": {
          "base_uri": "https://localhost:8080/"
        },
        "id": "cthR6g54KAd4",
        "outputId": "99745d28-29c0-4e2b-9188-9a6f8dc74cd0"
      },
      "source": [
        "q = df['ride_completed'].quantile(0.95) # 95 - персентиль для ride_completed\n",
        "q"
      ],
      "execution_count": null,
      "outputs": [
        {
          "output_type": "execute_result",
          "data": {
            "text/plain": [
              "1.0"
            ]
          },
          "metadata": {},
          "execution_count": 4
        }
      ]
    },
    {
      "cell_type": "code",
      "metadata": {
        "colab": {
          "base_uri": "https://localhost:8080/"
        },
        "id": "U4RP5lFbKYaE",
        "outputId": "13fd40fb-4b16-4a36-d10e-dc446f3f8723"
      },
      "source": [
        "q = df['price_seen'].quantile(0.95) # 95 - персентиль для Price_seen\n",
        "q"
      ],
      "execution_count": null,
      "outputs": [
        {
          "output_type": "execute_result",
          "data": {
            "text/plain": [
              "1.0"
            ]
          },
          "metadata": {},
          "execution_count": 9
        }
      ]
    },
    {
      "cell_type": "code",
      "metadata": {
        "colab": {
          "base_uri": "https://localhost:8080/"
        },
        "id": "nfmhKNHXKxSs",
        "outputId": "ab9c82cc-a547-4b26-f9b0-a9f6ed2aabb1"
      },
      "source": [
        "q = df['distance'].quantile(0.95) # 95 - персентиль для distance\n",
        "q"
      ],
      "execution_count": null,
      "outputs": [
        {
          "output_type": "execute_result",
          "data": {
            "text/plain": [
              "13.694289876456237"
            ]
          },
          "metadata": {},
          "execution_count": 10
        }
      ]
    },
    {
      "cell_type": "code",
      "metadata": {
        "colab": {
          "base_uri": "https://localhost:8080/"
        },
        "id": "oGR0LFOOGTlT",
        "outputId": "0742e5da-3a06-4ba0-f068-946843a50c9d"
      },
      "source": [
        "q = df['age'].quantile(0.95) # 95 - персентиль для age\n",
        "q"
      ],
      "execution_count": null,
      "outputs": [
        {
          "output_type": "execute_result",
          "data": {
            "text/plain": [
              "63.0"
            ]
          },
          "metadata": {},
          "execution_count": 21
        }
      ]
    },
    {
      "cell_type": "code",
      "metadata": {
        "colab": {
          "base_uri": "https://localhost:8080/",
          "height": 299
        },
        "id": "OJJy7DBvLOC8",
        "outputId": "53c65143-9647-4709-f7d6-10b6d76cac80"
      },
      "source": [
        "import matplotlib.pyplot as plt\n",
        "import seaborn as sns\n",
        "df['ride_completed'].plot(kind = 'box',title='Выполненные поездки',grid=True)\n",
        "# Возможно, данную метрику лучше визуализировать другим графиком"
      ],
      "execution_count": null,
      "outputs": [
        {
          "output_type": "execute_result",
          "data": {
            "text/plain": [
              "<matplotlib.axes._subplots.AxesSubplot at 0x7fe4d399ba50>"
            ]
          },
          "metadata": {},
          "execution_count": 5
        },
        {
          "output_type": "display_data",
          "data": {
            "image/png": "[encoded data removed]",
            "text/plain": [
              "<Figure size 432x288 with 1 Axes>"
            ]
          },
          "metadata": {
            "needs_background": "light"
          }
        }
      ]
    },
    {
      "cell_type": "code",
      "metadata": {
        "colab": {
          "base_uri": "https://localhost:8080/",
          "height": 298
        },
        "id": "xQSupC0aGhkR",
        "outputId": "84e4cf65-93a5-4b29-b1da-9967336e4680"
      },
      "source": [
        "df['age'].plot(kind = 'box',title='Распределение по возрасту',grid=True)\n",
        "# на графике видно, что медиана незначительно меньше среднего, распределение ближе к нормальному\n",
        "# со сдвигом к левому краю, значения после 75-персентиля имеют больший разброс чем после 25-персентиля"
      ],
      "execution_count": null,
      "outputs": [
        {
          "output_type": "execute_result",
          "data": {
            "text/plain": [
              "<matplotlib.axes._subplots.AxesSubplot at 0x7fe4cdc51210>"
            ]
          },
          "metadata": {},
          "execution_count": 22
        },
        {
          "output_type": "display_data",
          "data": {
            "image/png": "[encoded data removed]",
            "text/plain": [
              "<Figure size 432x288 with 1 Axes>"
            ]
          },
          "metadata": {
            "needs_background": "light"
          }
        }
      ]
    },
    {
      "cell_type": "code",
      "metadata": {
        "colab": {
          "base_uri": "https://localhost:8080/",
          "height": 404
        },
        "id": "DIiOgti7HM_9",
        "outputId": "c644f278-a9de-4f8f-c934-b6631da169c3"
      },
      "source": [
        "df['age'].plot(kind='hist',bins=25, figsize=(8,6))\n",
        "plt.title('Age') \n",
        "plt.ylabel('Частота') \n",
        "plt.xlabel('Возраст') \n",
        "plt.show()"
      ],
      "execution_count": null,
      "outputs": [
        {
          "output_type": "display_data",
          "data": {
            "image/png": "[encoded data removed]",
            "text/plain": [
              "<Figure size 576x432 with 1 Axes>"
            ]
          },
          "metadata": {
            "needs_background": "light"
          }
        }
      ]
    },
    {
      "cell_type": "code",
      "metadata": {
        "colab": {
          "base_uri": "https://localhost:8080/",
          "height": 483
        },
        "id": "oZ6PKI83HzaG",
        "outputId": "e354978f-9255-4aec-9df7-2b2e10523fb1"
      },
      "source": [
        "plt.hist(df['age'], bins=50)"
      ],
      "execution_count": null,
      "outputs": [
        {
          "output_type": "execute_result",
          "data": {
            "text/plain": [
              "(array([4548., 2155., 2237., 2269., 2228., 2249., 2212., 2187., 2222.,\n",
              "        2211., 2254., 2267., 2305., 2255., 2160., 2238., 2192., 2139.,\n",
              "        2171., 2161., 2226., 2297., 2279., 2138., 2224., 2320., 2266.,\n",
              "        2301., 2261., 2188., 2270., 2258., 2219., 2320., 2242., 2237.,\n",
              "        2237., 2221., 2278., 2263., 2236.,  739.,  782.,  755.,  838.,\n",
              "         782.,  721.,  737.,  735., 1470.]),\n",
              " array([18.  , 19.02, 20.04, 21.06, 22.08, 23.1 , 24.12, 25.14, 26.16,\n",
              "        27.18, 28.2 , 29.22, 30.24, 31.26, 32.28, 33.3 , 34.32, 35.34,\n",
              "        36.36, 37.38, 38.4 , 39.42, 40.44, 41.46, 42.48, 43.5 , 44.52,\n",
              "        45.54, 46.56, 47.58, 48.6 , 49.62, 50.64, 51.66, 52.68, 53.7 ,\n",
              "        54.72, 55.74, 56.76, 57.78, 58.8 , 59.82, 60.84, 61.86, 62.88,\n",
              "        63.9 , 64.92, 65.94, 66.96, 67.98, 69.  ]),\n",
              " <a list of 50 Patch objects>)"
            ]
          },
          "metadata": {},
          "execution_count": 26
        },
        {
          "output_type": "display_data",
          "data": {
            "image/png": "[encoded data removed]",
            "text/plain": [
              "<Figure size 432x288 with 1 Axes>"
            ]
          },
          "metadata": {
            "needs_background": "light"
          }
        }
      ]
    },
    {
      "cell_type": "code",
      "metadata": {
        "colab": {
          "base_uri": "https://localhost:8080/",
          "height": 399
        },
        "id": "cOhbIMDqFp1C",
        "outputId": "4e2f34d6-630e-45eb-c5f4-b852c4a22c8a"
      },
      "source": [
        "plt.hist(df['ride_completed'], bins=25)"
      ],
      "execution_count": null,
      "outputs": [
        {
          "output_type": "execute_result",
          "data": {
            "text/plain": [
              "(array([38533.,     0.,     0.,     0.,     0.,     0.,     0.,     0.,\n",
              "            0.,     0.,     0.,     0.,     0.,     0.,     0.,     0.,\n",
              "            0.,     0.,     0.,     0.,     0.,     0.,     0.,     0.,\n",
              "        62967.]),\n",
              " array([0.  , 0.04, 0.08, 0.12, 0.16, 0.2 , 0.24, 0.28, 0.32, 0.36, 0.4 ,\n",
              "        0.44, 0.48, 0.52, 0.56, 0.6 , 0.64, 0.68, 0.72, 0.76, 0.8 , 0.84,\n",
              "        0.88, 0.92, 0.96, 1.  ]),\n",
              " <a list of 25 Patch objects>)"
            ]
          },
          "metadata": {},
          "execution_count": 20
        },
        {
          "output_type": "display_data",
          "data": {
            "image/png": "[encoded data removed]",
            "text/plain": [
              "<Figure size 432x288 with 1 Axes>"
            ]
          },
          "metadata": {
            "needs_background": "light"
          }
        }
      ]
    },
    {
      "cell_type": "code",
      "metadata": {
        "colab": {
          "base_uri": "https://localhost:8080/",
          "height": 299
        },
        "id": "MddFRy_FM-WF",
        "outputId": "4d66d04d-e877-4d1d-dc70-fbd1e9833f47"
      },
      "source": [
        "df['price_seen'].plot(kind = 'box',title='Данные поездки введены',grid=True)\n",
        "# Возможно, данную метрику лучше визуализировать другим графиком"
      ],
      "execution_count": null,
      "outputs": [
        {
          "output_type": "execute_result",
          "data": {
            "text/plain": [
              "<matplotlib.axes._subplots.AxesSubplot at 0x7fe4d318b790>"
            ]
          },
          "metadata": {},
          "execution_count": 6
        },
        {
          "output_type": "display_data",
          "data": {
            "image/png": "[encoded data removed]",
            "text/plain": [
              "<Figure size 432x288 with 1 Axes>"
            ]
          },
          "metadata": {
            "needs_background": "light"
          }
        }
      ]
    },
    {
      "cell_type": "code",
      "metadata": {
        "colab": {
          "base_uri": "https://localhost:8080/",
          "height": 399
        },
        "id": "BDpu80ITFjXi",
        "outputId": "375436e0-a44a-4b1c-b5de-6eb3ab613b9b"
      },
      "source": [
        "plt.hist(df['price_seen'], bins=25)"
      ],
      "execution_count": null,
      "outputs": [
        {
          "output_type": "execute_result",
          "data": {
            "text/plain": [
              "(array([10069.,     0.,     0.,     0.,     0.,     0.,     0.,     0.,\n",
              "            0.,     0.,     0.,     0.,     0.,     0.,     0.,     0.,\n",
              "            0.,     0.,     0.,     0.,     0.,     0.,     0.,     0.,\n",
              "        91431.]),\n",
              " array([0.  , 0.04, 0.08, 0.12, 0.16, 0.2 , 0.24, 0.28, 0.32, 0.36, 0.4 ,\n",
              "        0.44, 0.48, 0.52, 0.56, 0.6 , 0.64, 0.68, 0.72, 0.76, 0.8 , 0.84,\n",
              "        0.88, 0.92, 0.96, 1.  ]),\n",
              " <a list of 25 Patch objects>)"
            ]
          },
          "metadata": {},
          "execution_count": 19
        },
        {
          "output_type": "display_data",
          "data": {
            "image/png": "[encoded data removed]",
            "text/plain": [
              "<Figure size 432x288 with 1 Axes>"
            ]
          },
          "metadata": {
            "needs_background": "light"
          }
        }
      ]
    },
    {
      "cell_type": "code",
      "metadata": {
        "colab": {
          "base_uri": "https://localhost:8080/",
          "height": 298
        },
        "id": "XkHxYzgLNgI8",
        "outputId": "471f6ebf-56ba-4509-ec84-be47fc18eed3"
      },
      "source": [
        "df['distance'].plot(kind = 'box',title='Дальность поездки, км',grid=True)\n",
        "# на графике видно медиану-в районе 4, которая немного меньше среднего, распределение ближе к Гамме-распределению\n",
        "# значения после 75-персентиля имеют больший разброс чем после 25-персентиля,\n",
        "# есть много выбросов (поездки на далекие расстояния)"
      ],
      "execution_count": null,
      "outputs": [
        {
          "output_type": "execute_result",
          "data": {
            "text/plain": [
              "<matplotlib.axes._subplots.AxesSubplot at 0x7fe4d2cc2510>"
            ]
          },
          "metadata": {},
          "execution_count": 7
        },
        {
          "output_type": "display_data",
          "data": {
            "image/png": "[encoded data removed]",
            "text/plain": [
              "<Figure size 432x288 with 1 Axes>"
            ]
          },
          "metadata": {
            "needs_background": "light"
          }
        }
      ]
    },
    {
      "cell_type": "code",
      "metadata": {
        "colab": {
          "base_uri": "https://localhost:8080/",
          "height": 483
        },
        "id": "NMl5TF-9-wFp",
        "outputId": "189ba97d-a0a7-42cd-fec1-42553dc6f789"
      },
      "source": [
        "plt.hist(df['distance'], bins=25)"
      ],
      "execution_count": null,
      "outputs": [
        {
          "output_type": "execute_result",
          "data": {
            "text/plain": [
              "(array([1.2213e+04, 2.1074e+04, 1.8284e+04, 1.3087e+04, 8.6120e+03,\n",
              "        5.8530e+03, 3.9790e+03, 2.7000e+03, 1.8870e+03, 1.3210e+03,\n",
              "        8.6900e+02, 5.7500e+02, 3.7600e+02, 2.2200e+02, 1.7800e+02,\n",
              "        8.0000e+01, 5.1000e+01, 3.2000e+01, 2.4000e+01, 6.0000e+00,\n",
              "        1.0000e+00, 4.0000e+00, 1.0000e+00, 1.0000e+00, 1.0000e+00]),\n",
              " array([1.09464561e-02, 1.62126724e+00, 3.23158802e+00, 4.84190880e+00,\n",
              "        6.45222958e+00, 8.06255036e+00, 9.67287115e+00, 1.12831919e+01,\n",
              "        1.28935127e+01, 1.45038335e+01, 1.61141543e+01, 1.77244751e+01,\n",
              "        1.93347958e+01, 2.09451166e+01, 2.25554374e+01, 2.41657582e+01,\n",
              "        2.57760790e+01, 2.73863997e+01, 2.89967205e+01, 3.06070413e+01,\n",
              "        3.22173621e+01, 3.38276829e+01, 3.54380037e+01, 3.70483244e+01,\n",
              "        3.86586452e+01, 4.02689660e+01]),\n",
              " <a list of 25 Patch objects>)"
            ]
          },
          "metadata": {},
          "execution_count": 12
        },
        {
          "output_type": "display_data",
          "data": {
            "image/png": "[encoded data removed]",
            "text/plain": [
              "<Figure size 432x288 with 1 Axes>"
            ]
          },
          "metadata": {
            "needs_background": "light"
          }
        }
      ]
    },
    {
      "cell_type": "code",
      "metadata": {
        "colab": {
          "base_uri": "https://localhost:8080/",
          "height": 404
        },
        "id": "WTfc0jCuCs0h",
        "outputId": "9726657b-d055-4ee5-96c9-8b0c7b2e213e"
      },
      "source": [
        "df['distance'].plot(kind='hist',bins=25, figsize=(10,6),color='g')\n",
        "plt.title('distance') \n",
        "plt.ylabel('Частота') \n",
        "plt.xlabel('Дальность поездки') \n",
        "plt.show()"
      ],
      "execution_count": null,
      "outputs": [
        {
          "output_type": "display_data",
          "data": {
            "image/png": "[encoded data removed]",
            "text/plain": [
              "<Figure size 720x432 with 1 Axes>"
            ]
          },
          "metadata": {
            "needs_background": "light"
          }
        }
      ]
    }
  ]
}