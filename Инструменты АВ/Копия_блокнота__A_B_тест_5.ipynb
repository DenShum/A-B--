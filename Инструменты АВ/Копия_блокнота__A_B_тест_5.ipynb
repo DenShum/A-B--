{
  "nbformat": 4,
  "nbformat_minor": 0,
  "metadata": {
    "colab": {
      "name": "Копия блокнота \"A/B_тест_5.ipynb",
      "provenance": [],
      "collapsed_sections": []
    },
    "kernelspec": {
      "name": "python3",
      "display_name": "Python 3"
    },
    "language_info": {
      "name": "python"
    }
  },
  "cells": [
    {
      "cell_type": "markdown",
      "metadata": {
        "id": "HAYqjC4yXOiC"
      },
      "source": [
        "Выберите две особенности в данных из приведенных ниже, сформулируйте для них гипотезы по всем правилам:\n",
        "\n",
        "● В период Surge видим более низкую price-to-order конверсию\n",
        "\n",
        "● Для устройств Android наблюдаем более высокие юзерские отмены\n",
        "\n",
        "● Если Заказ из центра, то видим более низкие юзерские отмены\n",
        "\n",
        "\n",
        "● Если Comfort & Business классы, то более низкие юзерские отмены, более длинные поездки\n",
        "\n",
        "Разбейте юзеров на группы с помощью рандома, например, по следующему алгориму:\n",
        "\n",
        "● Добавьте новую колонку, где каждому юзеру присвойте значение функции RAND() - выдает случайное число от 0 до 1\n",
        "\n",
        "● В зависимости от значения rand - поместите пользователя в группу 1 или 2. (если rand >0.5, то 1, иначе 2)\n",
        "\n",
        "Проверьте на однородность с помощью t-теста (встроенной функией excel)\n",
        "Важно: функция работает только на выборках одинакового размера. Убедитесь что группы 1 и 2 одинаковы по количеству юзеров. Для выравнивания можно исключить некоторое кол-во юзеров в большей группе.\n",
        "\n"
      ]
    },
    {
      "cell_type": "code",
      "metadata": {
        "id": "_DGp51KpXHYm",
        "colab": {
          "base_uri": "https://localhost:8080/"
        },
        "outputId": "e277d6cb-26b8-47c6-9439-a0ddae482468"
      },
      "source": [
        "import numpy as np\n",
        "import pandas as pd\n",
        "import scipy.stats as stats\n",
        "import math\n",
        "import matplotlib.pyplot as plt\n",
        "import seaborn as sns\n",
        "df = pd.read_csv('/content/Netology_A_B-testing_HW_1.csv')\n",
        "print(df.shape) #количество стр. и столб.\n",
        "df.info()\n",
        "# df = df.apply(pd.to_numeric,errors='coerce') #меняем тип данных на числовые\n",
        "# df.describe().T"
      ],
      "execution_count": null,
      "outputs": [
        {
          "output_type": "stream",
          "name": "stdout",
          "text": [
            "(101500, 16)\n",
            "<class 'pandas.core.frame.DataFrame'>\n",
            "RangeIndex: 101500 entries, 0 to 101499\n",
            "Data columns (total 16 columns):\n",
            " #   Column             Non-Null Count   Dtype  \n",
            "---  ------             --------------   -----  \n",
            " 0   Unnamed: 0         101500 non-null  int64  \n",
            " 1   date               101500 non-null  object \n",
            " 2   user_id            101500 non-null  int64  \n",
            " 3   hour               101500 non-null  int64  \n",
            " 4   app_opened         101500 non-null  int64  \n",
            " 5   price_seen         101500 non-null  int64  \n",
            " 6   order_made         101500 non-null  int64  \n",
            " 7   surge              91431 non-null   object \n",
            " 8   ride_completed     101500 non-null  int64  \n",
            " 9   user_cancelled     101500 non-null  int64  \n",
            " 10  age                101500 non-null  int64  \n",
            " 11  os                 101500 non-null  object \n",
            " 12  city_center_order  101500 non-null  int64  \n",
            " 13  order_class        101500 non-null  object \n",
            " 14  distance           91431 non-null   float64\n",
            " 15  rfm                101500 non-null  object \n",
            "dtypes: float64(1), int64(10), object(5)\n",
            "memory usage: 12.4+ MB\n"
          ]
        }
      ]
    },
    {
      "cell_type": "code",
      "metadata": {
        "id": "rWlNh5Ccb4XX"
      },
      "source": [
        "df.head(10).T"
      ],
      "execution_count": null,
      "outputs": []
    },
    {
      "cell_type": "code",
      "metadata": {
        "id": "ppFHZ6f26bj0"
      },
      "source": [
        "df['surge'] = df['surge'].fillna('no surge')# заменяем NaN на 'no surge' в кол.surge\n",
        "df.loc[(df.distance > 0), 'order_made'] = 1 # ставим 1 в кол.'order_made', если в кол.distance есть расстояние\n",
        "df.head(10).T # ОЧИЩЕННЫЙ ДАТАФРЕЙМ !!!"
      ],
      "execution_count": null,
      "outputs": []
    },
    {
      "cell_type": "code",
      "metadata": {
        "colab": {
          "base_uri": "https://localhost:8080/"
        },
        "id": "xmxRkYT_Jy7b",
        "outputId": "5eb94f5d-3409-4217-d509-b85a84490418"
      },
      "source": [
        "#отфильтруем df по os=='Android' (сформируем ГС из пользователей с ОС Android )\n",
        "#получим количество уникальных значений по колонке os\n",
        "df0 = df[df.os=='Android'] \n",
        "df0.os.value_counts()"
      ],
      "execution_count": null,
      "outputs": [
        {
          "output_type": "execute_result",
          "data": {
            "text/plain": [
              "Android    56696\n",
              "Name: os, dtype: int64"
            ]
          },
          "metadata": {},
          "execution_count": 3
        }
      ]
    },
    {
      "cell_type": "code",
      "metadata": {
        "colab": {
          "base_uri": "https://localhost:8080/"
        },
        "id": "n1mwtdQyQeZ4",
        "outputId": "badb568f-a1bf-467c-df8e-811b3716bc61"
      },
      "source": [
        "# получим среднеквадратичное (стандартное) отклонение\n",
        "# получим среднее\n",
        "sigma0 = np.std(df0.order_made) #среднеквадратичное (стандартное) отклонение\n",
        "m0 = df0.order_made.mean()\n",
        "print(sigma0,m0)"
      ],
      "execution_count": null,
      "outputs": [
        {
          "output_type": "stream",
          "name": "stdout",
          "text": [
            "0.3217052304116487 0.8827606885847326\n"
          ]
        }
      ]
    },
    {
      "cell_type": "code",
      "metadata": {
        "colab": {
          "base_uri": "https://localhost:8080/"
        },
        "id": "rfXJHVjjNAuC",
        "outputId": "3240faad-a704-48d6-d07e-3964f007c582"
      },
      "source": [
        "# находим сколько поездок было выполнено среди ГС (df0)\n",
        "# находим конверсию выполненных поездок для владельцев Android - 68%\n",
        "df_completed = df0[df0.ride_completed==1]\n",
        "df_completed.ride_completed.value_counts()\n",
        "print(round((38801/56696)*100,2))"
      ],
      "execution_count": null,
      "outputs": [
        {
          "output_type": "stream",
          "name": "stdout",
          "text": [
            "68.44\n"
          ]
        }
      ]
    },
    {
      "cell_type": "code",
      "metadata": {
        "id": "_4yyohC1W8EK"
      },
      "source": [
        "# Из онлайн-калькулятора находим, что для базового коэффициента конверсии-68%\n",
        "# Минимально обнаруживаемый эффекта -5%\n",
        "# Мощности - 80%\n",
        "# Уровня значимости - 5%(альфа)\n",
        "# Минимальный размер выборки - 1381 чел."
      ],
      "execution_count": null,
      "outputs": []
    },
    {
      "cell_type": "code",
      "metadata": {
        "colab": {
          "base_uri": "https://localhost:8080/"
        },
        "id": "HXfkXGpySD4w",
        "outputId": "ab3ed9b1-5322-4538-d45e-f147e5ddb3a5"
      },
      "source": [
        "# добавляем кол.randNumCol и заполняем ее случ.знач. : 0 или 1, по строкам df\n",
        "df0['randNumCol'] = np.random.choice([0, 1], df0.shape[0]) \n",
        "df0.randNumCol.value_counts()# уникальные значения по колонке randNumCol"
      ],
      "execution_count": null,
      "outputs": [
        {
          "output_type": "stream",
          "name": "stderr",
          "text": [
            "/usr/local/lib/python3.7/dist-packages/ipykernel_launcher.py:2: SettingWithCopyWarning: \n",
            "A value is trying to be set on a copy of a slice from a DataFrame.\n",
            "Try using .loc[row_indexer,col_indexer] = value instead\n",
            "\n",
            "See the caveats in the documentation: https://pandas.pydata.org/pandas-docs/stable/user_guide/indexing.html#returning-a-view-versus-a-copy\n",
            "  \n"
          ]
        },
        {
          "output_type": "execute_result",
          "data": {
            "text/plain": [
              "1    28410\n",
              "0    28286\n",
              "Name: randNumCol, dtype: int64"
            ]
          },
          "metadata": {},
          "execution_count": 12
        }
      ]
    },
    {
      "cell_type": "code",
      "metadata": {
        "colab": {
          "base_uri": "https://localhost:8080/"
        },
        "id": "qGzNJkMATBkt",
        "outputId": "218055ca-57f1-42fe-d361-cd1aade52868"
      },
      "source": [
        "#отфильтруем df0 по randNumCol==0,выборка А\n",
        "dfA = df0[df0.randNumCol==0] \n",
        "#отфильтруем df0 по randNumCol==1,выборка B\n",
        "dfB = df0[df0.randNumCol==1] \n",
        "# выбираем нужное количество строк, чтоб выборки А(знач.\"0\") и В(знач.\"1\") были одинаковыми\n",
        "dfB = dfB.iloc[0:1400] \n",
        "dfA = dfA.iloc[1400:2800]\n",
        "print(dfB.randNumCol.value_counts(),dfA.randNumCol.value_counts(), end='')\n",
        "\n"
      ],
      "execution_count": null,
      "outputs": [
        {
          "output_type": "stream",
          "name": "stdout",
          "text": [
            "1    1400\n",
            "Name: randNumCol, dtype: int64 0    1400\n",
            "Name: randNumCol, dtype: int64"
          ]
        }
      ]
    },
    {
      "cell_type": "code",
      "metadata": {
        "colab": {
          "base_uri": "https://localhost:8080/"
        },
        "id": "ww8nGtFUUo0c",
        "outputId": "ce5bb62d-1c58-4c1c-c21c-433e75a563a1"
      },
      "source": [
        " #находим средние значения в выборках по столбцу order_made\n",
        "m1, m2 = dfA.order_made.mean(),dfB.order_made.mean()\n",
        "print(m1,m2, end='')"
      ],
      "execution_count": null,
      "outputs": [
        {
          "output_type": "stream",
          "name": "stdout",
          "text": [
            "0.8714285714285714 0.8628571428571429"
          ]
        }
      ]
    },
    {
      "cell_type": "code",
      "metadata": {
        "colab": {
          "base_uri": "https://localhost:8080/"
        },
        "id": "_JG8AHGvUzxo",
        "outputId": "9e328201-4610-4063-9a3d-fcd469522b16"
      },
      "source": [
        "scal0 = np.std(dfA.order_made) #среднеквадратичное (стандартное) отклонение выборка А\n",
        "scal1 = np.std(dfB.order_made) #среднеквадратичное (стандартное) отклонение выборка В\n",
        "print(scal0,scal1)"
      ],
      "execution_count": null,
      "outputs": [
        {
          "output_type": "stream",
          "name": "stdout",
          "text": [
            "0.33472498611028517 0.3439981015609682\n"
          ]
        }
      ]
    },
    {
      "cell_type": "code",
      "metadata": {
        "colab": {
          "base_uri": "https://localhost:8080/"
        },
        "id": "lgWr48utNBMH",
        "outputId": "92f8bcca-b248-4083-cddc-428de77d4f8a"
      },
      "source": [
        "A = dfA[['order_made']]  # выборка А с одним столбцом order_made\n",
        "B = dfB[['order_made']] # выборка B с одним столбцом order_made\n",
        "t, p_value = stats.ttest_ind(A, B) #Критерий Стьюдента (t-test)\n",
        "print(t, p_value)\n",
        "print(stats.ttest_ind(A, B, equal_var = False))"
      ],
      "execution_count": null,
      "outputs": [
        {
          "output_type": "stream",
          "name": "stdout",
          "text": [
            "[0.66794994] [0.50422064]\n",
            "Ttest_indResult(statistic=array([0.66794994]), pvalue=array([0.50422068]))\n"
          ]
        }
      ]
    },
    {
      "cell_type": "markdown",
      "metadata": {
        "id": "Fs3I_zEC7uNf"
      },
      "source": [
        "*т*.к. Ttest = 0,667 меньше табличного значения 1.960, то статистически значимых различий нет\n",
        "\n",
        "Выборки однородны\n",
        "\n"
      ]
    },
    {
      "cell_type": "code",
      "metadata": {
        "colab": {
          "base_uri": "https://localhost:8080/",
          "height": 265
        },
        "id": "j8iw7Ml1r73n",
        "outputId": "0bc10bb6-1a9c-4c73-b586-134fae7ecda4"
      },
      "source": [
        "plt.hist(dfA['order_made'], bins=25);\n",
        "plt.hist(dfB['order_made'], bins=25);"
      ],
      "execution_count": null,
      "outputs": [
        {
          "output_type": "display_data",
          "data": {
            "image/png": "[encoded data removed]",
            "text/plain": [
              "<Figure size 432x288 with 1 Axes>"
            ]
          },
          "metadata": {
            "needs_background": "light"
          }
        }
      ]
    },
    {
      "cell_type": "code",
      "metadata": {
        "colab": {
          "base_uri": "https://localhost:8080/",
          "height": 265
        },
        "id": "nI34KW6tXLQl",
        "outputId": "9ee6916b-2a5f-40fa-b0be-aed428296bee"
      },
      "source": [
        "plt.boxplot(dfA['order_made']);\n",
        "plt.boxplot(dfB['order_made']);"
      ],
      "execution_count": null,
      "outputs": [
        {
          "output_type": "display_data",
          "data": {
            "image/png": "[encoded data removed]",
            "text/plain": [
              "<Figure size 432x288 with 1 Axes>"
            ]
          },
          "metadata": {
            "needs_background": "light"
          }
        }
      ]
    }
  ]
}