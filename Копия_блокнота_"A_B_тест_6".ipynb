{
  "nbformat": 4,
  "nbformat_minor": 0,
  "metadata": {
    "colab": {
      "name": "Копия блокнота \"A/B_тест_6\"",
      "provenance": [],
      "collapsed_sections": [],
      "authorship_tag": "ABX9TyPIkn3WLG+YkrSdXn55lo24",
      "include_colab_link": true
    },
    "kernelspec": {
      "name": "python3",
      "display_name": "Python 3"
    },
    "language_info": {
      "name": "python"
    }
  },
  "cells": [
    {
      "cell_type": "markdown",
      "metadata": {
        "id": "view-in-github",
        "colab_type": "text"
      },
      "source": [
        "<a href=\"https://colab.research.google.com/github/DenShum/A-B-test/blob/main/%D0%9A%D0%BE%D0%BF%D0%B8%D1%8F_%D0%B1%D0%BB%D0%BE%D0%BA%D0%BD%D0%BE%D1%82%D0%B0_%22A_B_%D1%82%D0%B5%D1%81%D1%82_6%22.ipynb\" target=\"_parent\"><img src=\"https://colab.research.google.com/assets/colab-badge.svg\" alt=\"Open In Colab\"/></a>"
      ]
    },
    {
      "cell_type": "markdown",
      "metadata": {
        "id": "844dBpEoljmI"
      },
      "source": [
        "Задание\n",
        "\n",
        "Описание задания:\n",
        "\n",
        "Выберите одну из трех фичей для анализа\n",
        "\n",
        "● Понижение коэффициента surge, чтобы увеличить price-to-order конверсию (во время surge)\n",
        "Ожидаем: выше price-to-order конверсия во время surge\n",
        "\n",
        "● Если юзер Android нажимает “отменить”, предлагать промокод в случае НЕ отмены\n",
        "Ожидаем: ниже отмены на Android устройствах\n",
        "\n",
        "● При уточнении, уверен ли юзер в отмене заказа не из центра, добавить эмодзи котика, просящего не отменять\n",
        "Ожидаем: ниже отмены по заказам НЕ из центра\n",
        "\n",
        "Отфильтруйте датасет по своей гипотезе. Используйте метрику, которая описана в блоке “Ожидаем”\n",
        "\n",
        "Постройте периодический p-value по выбранной метрике (сплит уже произведен)\n",
        "\n",
        "● Разбейте общее количество наблюдений на 7 участков (используйте столбец даты)\n",
        "\n",
        "● Для каждого участка используйте встроенную функцию ТТЕСТ() в excel, чтобы сравнить тестовую и котрольную группы\n",
        "\n",
        "● 7 полученных значений p-value визуализируйте на графике\n",
        "\n",
        "На основе графика сделайте вывод о значимости результатов.\n",
        "\n",
        "Результат ДЗ предоставить в виде: ссылки на документ\n",
        "\n",
        "При выполнении задания используйте: материалы из лекции\n",
        "\n",
        "Критерии оценки задания:\n",
        "В ДЗ должно быть описание полученных результатов и выводы по графику"
      ]
    },
    {
      "cell_type": "code",
      "metadata": {
        "id": "6k-0RTrllJsH",
        "colab": {
          "base_uri": "https://localhost:8080/"
        },
        "outputId": "7686c92a-9843-466f-df20-285e692be9bd"
      },
      "source": [
        "import numpy as np\n",
        "import pandas as pd\n",
        "import scipy.stats as stats\n",
        "import math\n",
        "import matplotlib.pyplot as plt\n",
        "import seaborn as sns\n",
        "df = pd.read_csv('/content/post_abtest_data.csv')\n",
        "print(df.shape) #количество стр. и столб.\n",
        "df.info()\n"
      ],
      "execution_count": null,
      "outputs": [
        {
          "output_type": "stream",
          "name": "stdout",
          "text": [
            "(101500, 11)\n",
            "<class 'pandas.core.frame.DataFrame'>\n",
            "RangeIndex: 101500 entries, 0 to 101499\n",
            "Data columns (total 11 columns):\n",
            " #   Column             Non-Null Count   Dtype  \n",
            "---  ------             --------------   -----  \n",
            " 0   user_id            101500 non-null  int64  \n",
            " 1   date               101500 non-null  object \n",
            " 2   app_opened         101500 non-null  int64  \n",
            " 3   group              101500 non-null  object \n",
            " 4   price_seen         101500 non-null  int64  \n",
            " 5   order_made         101500 non-null  int64  \n",
            " 6   surge              92358 non-null   object \n",
            " 7   os                 101500 non-null  object \n",
            " 8   user_cancelled     70157 non-null   float64\n",
            " 9   city_center_order  70157 non-null   float64\n",
            " 10  groups             101500 non-null  object \n",
            "dtypes: float64(2), int64(4), object(5)\n",
            "memory usage: 8.5+ MB\n"
          ]
        }
      ]
    },
    {
      "cell_type": "code",
      "metadata": {
        "colab": {
          "base_uri": "https://localhost:8080/"
        },
        "id": "mcml6SIcsTSw",
        "outputId": "1bd577ea-6a4b-4588-902b-a025111e1eaa"
      },
      "source": [
        "df['surge'] = df['surge'].fillna('no surge')# заменяем NaN на 'no surge' в кол.surge\n",
        "df.surge .value_counts() # проверяем количество уникальных знач. по кол. surge"
      ],
      "execution_count": null,
      "outputs": [
        {
          "output_type": "execute_result",
          "data": {
            "text/plain": [
              "no surge    72748\n",
              "surge       28752\n",
              "Name: surge, dtype: int64"
            ]
          },
          "metadata": {},
          "execution_count": 2
        }
      ]
    },
    {
      "cell_type": "code",
      "metadata": {
        "colab": {
          "base_uri": "https://localhost:8080/"
        },
        "id": "yRWT_AwJuqmm",
        "outputId": "55bb3cda-cb56-4904-c035-c09b2fcbe341"
      },
      "source": [
        "df['user_cancelled'] = df['user_cancelled'].fillna('0')# заменяем NaN на '0' в кол.user_cancelled\n",
        "df['city_center_order'] = df['city_center_order'].fillna('0')# заменяем NaN на '0' в кол.city_center_order\n",
        "df = df.astype({'user_cancelled': np.int}) #меняем тип данных user_cancelled на числовой\n",
        "df = df.astype({'city_center_order': np.int}) #меняем тип данных city_center_order на числовой\n",
        "df.info() # очищенный датафрейм"
      ],
      "execution_count": null,
      "outputs": [
        {
          "output_type": "stream",
          "name": "stdout",
          "text": [
            "<class 'pandas.core.frame.DataFrame'>\n",
            "RangeIndex: 101500 entries, 0 to 101499\n",
            "Data columns (total 11 columns):\n",
            " #   Column             Non-Null Count   Dtype \n",
            "---  ------             --------------   ----- \n",
            " 0   user_id            101500 non-null  int64 \n",
            " 1   date               101500 non-null  object\n",
            " 2   app_opened         101500 non-null  int64 \n",
            " 3   group              101500 non-null  object\n",
            " 4   price_seen         101500 non-null  int64 \n",
            " 5   order_made         101500 non-null  int64 \n",
            " 6   surge              101500 non-null  object\n",
            " 7   os                 101500 non-null  object\n",
            " 8   user_cancelled     101500 non-null  int64 \n",
            " 9   city_center_order  101500 non-null  int64 \n",
            " 10  groups             101500 non-null  object\n",
            "dtypes: int64(6), object(5)\n",
            "memory usage: 8.5+ MB\n"
          ]
        }
      ]
    },
    {
      "cell_type": "code",
      "metadata": {
        "colab": {
          "base_uri": "https://localhost:8080/",
          "height": 388
        },
        "id": "2mgz1QyxtjMt",
        "outputId": "e6a9e7de-e1a0-4e97-ab2b-ff49382fbce6"
      },
      "source": [
        "df.head(10).T # очищенный датафрейм\n"
      ],
      "execution_count": null,
      "outputs": [
        {
          "output_type": "execute_result",
          "data": {
            "text/html": [
              "<div>\n",
              "<style scoped>\n",
              "    .dataframe tbody tr th:only-of-type {\n",
              "        vertical-align: middle;\n",
              "    }\n",
              "\n",
              "    .dataframe tbody tr th {\n",
              "        vertical-align: top;\n",
              "    }\n",
              "\n",
              "    .dataframe thead th {\n",
              "        text-align: right;\n",
              "    }\n",
              "</style>\n",
              "<table border=\"1\" class=\"dataframe\">\n",
              "  <thead>\n",
              "    <tr style=\"text-align: right;\">\n",
              "      <th></th>\n",
              "      <th>0</th>\n",
              "      <th>1</th>\n",
              "      <th>2</th>\n",
              "      <th>3</th>\n",
              "      <th>4</th>\n",
              "      <th>5</th>\n",
              "      <th>6</th>\n",
              "      <th>7</th>\n",
              "      <th>8</th>\n",
              "      <th>9</th>\n",
              "    </tr>\n",
              "  </thead>\n",
              "  <tbody>\n",
              "    <tr>\n",
              "      <th>user_id</th>\n",
              "      <td>867689</td>\n",
              "      <td>867689</td>\n",
              "      <td>867689</td>\n",
              "      <td>752172</td>\n",
              "      <td>752172</td>\n",
              "      <td>486559</td>\n",
              "      <td>486559</td>\n",
              "      <td>486559</td>\n",
              "      <td>486559</td>\n",
              "      <td>486559</td>\n",
              "    </tr>\n",
              "    <tr>\n",
              "      <th>date</th>\n",
              "      <td>2020-05-28</td>\n",
              "      <td>2020-05-29</td>\n",
              "      <td>2020-05-25</td>\n",
              "      <td>2020-05-29</td>\n",
              "      <td>2020-05-28</td>\n",
              "      <td>2020-05-25</td>\n",
              "      <td>2020-05-31</td>\n",
              "      <td>2020-05-30</td>\n",
              "      <td>2020-05-28</td>\n",
              "      <td>2020-05-29</td>\n",
              "    </tr>\n",
              "    <tr>\n",
              "      <th>app_opened</th>\n",
              "      <td>1</td>\n",
              "      <td>1</td>\n",
              "      <td>1</td>\n",
              "      <td>1</td>\n",
              "      <td>1</td>\n",
              "      <td>1</td>\n",
              "      <td>1</td>\n",
              "      <td>1</td>\n",
              "      <td>1</td>\n",
              "      <td>1</td>\n",
              "    </tr>\n",
              "    <tr>\n",
              "      <th>group</th>\n",
              "      <td>Control</td>\n",
              "      <td>Control</td>\n",
              "      <td>Control</td>\n",
              "      <td>Control</td>\n",
              "      <td>Control</td>\n",
              "      <td>Control</td>\n",
              "      <td>Control</td>\n",
              "      <td>Control</td>\n",
              "      <td>Control</td>\n",
              "      <td>Control</td>\n",
              "    </tr>\n",
              "    <tr>\n",
              "      <th>price_seen</th>\n",
              "      <td>1</td>\n",
              "      <td>1</td>\n",
              "      <td>1</td>\n",
              "      <td>1</td>\n",
              "      <td>1</td>\n",
              "      <td>1</td>\n",
              "      <td>1</td>\n",
              "      <td>1</td>\n",
              "      <td>1</td>\n",
              "      <td>1</td>\n",
              "    </tr>\n",
              "    <tr>\n",
              "      <th>order_made</th>\n",
              "      <td>1</td>\n",
              "      <td>0</td>\n",
              "      <td>1</td>\n",
              "      <td>1</td>\n",
              "      <td>1</td>\n",
              "      <td>0</td>\n",
              "      <td>1</td>\n",
              "      <td>1</td>\n",
              "      <td>0</td>\n",
              "      <td>1</td>\n",
              "    </tr>\n",
              "    <tr>\n",
              "      <th>surge</th>\n",
              "      <td>no surge</td>\n",
              "      <td>surge</td>\n",
              "      <td>surge</td>\n",
              "      <td>surge</td>\n",
              "      <td>no surge</td>\n",
              "      <td>surge</td>\n",
              "      <td>no surge</td>\n",
              "      <td>no surge</td>\n",
              "      <td>surge</td>\n",
              "      <td>no surge</td>\n",
              "    </tr>\n",
              "    <tr>\n",
              "      <th>os</th>\n",
              "      <td>Android</td>\n",
              "      <td>iOS</td>\n",
              "      <td>Android</td>\n",
              "      <td>Android</td>\n",
              "      <td>iOS</td>\n",
              "      <td>Android</td>\n",
              "      <td>iOS</td>\n",
              "      <td>Android</td>\n",
              "      <td>iOS</td>\n",
              "      <td>Android</td>\n",
              "    </tr>\n",
              "    <tr>\n",
              "      <th>user_cancelled</th>\n",
              "      <td>0</td>\n",
              "      <td>0</td>\n",
              "      <td>0</td>\n",
              "      <td>0</td>\n",
              "      <td>0</td>\n",
              "      <td>0</td>\n",
              "      <td>0</td>\n",
              "      <td>0</td>\n",
              "      <td>0</td>\n",
              "      <td>0</td>\n",
              "    </tr>\n",
              "    <tr>\n",
              "      <th>city_center_order</th>\n",
              "      <td>1</td>\n",
              "      <td>0</td>\n",
              "      <td>0</td>\n",
              "      <td>1</td>\n",
              "      <td>0</td>\n",
              "      <td>0</td>\n",
              "      <td>0</td>\n",
              "      <td>0</td>\n",
              "      <td>0</td>\n",
              "      <td>0</td>\n",
              "    </tr>\n",
              "    <tr>\n",
              "      <th>groups</th>\n",
              "      <td>Control</td>\n",
              "      <td>Control</td>\n",
              "      <td>Control</td>\n",
              "      <td>Control</td>\n",
              "      <td>Control</td>\n",
              "      <td>Control</td>\n",
              "      <td>Control</td>\n",
              "      <td>Control</td>\n",
              "      <td>Control</td>\n",
              "      <td>Control</td>\n",
              "    </tr>\n",
              "  </tbody>\n",
              "</table>\n",
              "</div>"
            ],
            "text/plain": [
              "                            0           1  ...           8           9\n",
              "user_id                867689      867689  ...      486559      486559\n",
              "date               2020-05-28  2020-05-29  ...  2020-05-28  2020-05-29\n",
              "app_opened                  1           1  ...           1           1\n",
              "group                 Control     Control  ...     Control     Control\n",
              "price_seen                  1           1  ...           1           1\n",
              "order_made                  1           0  ...           0           1\n",
              "surge                no surge       surge  ...       surge    no surge\n",
              "os                    Android         iOS  ...         iOS     Android\n",
              "user_cancelled              0           0  ...           0           0\n",
              "city_center_order           1           0  ...           0           0\n",
              "groups                Control     Control  ...     Control     Control\n",
              "\n",
              "[11 rows x 10 columns]"
            ]
          },
          "metadata": {},
          "execution_count": 4
        }
      ]
    },
    {
      "cell_type": "code",
      "metadata": {
        "colab": {
          "base_uri": "https://localhost:8080/"
        },
        "id": "KVVznUSRsLDH",
        "outputId": "5afcc7a1-9fe0-4738-c93b-5893167babb7"
      },
      "source": [
        "#Гипотеза: Если юзер Android нажимает “отменить”, предлагать промокод в случае НЕ отмены\n",
        "#Ожидаем: уменьшение отмен на Android устройствах\n",
        "#отфильтруем df по os=='Android' (сформируем ГС из пользователей с ОС Android )\n",
        "#получим количество уникальных значений по колонке os\n",
        "df0 = df[df.os=='Android'] \n",
        "df0.os.value_counts()"
      ],
      "execution_count": null,
      "outputs": [
        {
          "output_type": "execute_result",
          "data": {
            "text/plain": [
              "Android    60825\n",
              "Name: os, dtype: int64"
            ]
          },
          "metadata": {},
          "execution_count": 5
        }
      ]
    },
    {
      "cell_type": "code",
      "metadata": {
        "colab": {
          "base_uri": "https://localhost:8080/"
        },
        "id": "77G8NQfQxueJ",
        "outputId": "0670996d-60f6-4372-ea19-bed0d3d44d40"
      },
      "source": [
        "df0.groups.value_counts()"
      ],
      "execution_count": null,
      "outputs": [
        {
          "output_type": "execute_result",
          "data": {
            "text/plain": [
              "Control    30453\n",
              "Test       30372\n",
              "Name: groups, dtype: int64"
            ]
          },
          "metadata": {},
          "execution_count": 6
        }
      ]
    },
    {
      "cell_type": "code",
      "metadata": {
        "colab": {
          "base_uri": "https://localhost:8080/"
        },
        "id": "sOBx2w4ly_uu",
        "outputId": "c8cd00c2-9d18-4b2e-b8ba-58a390a3c698"
      },
      "source": [
        "#отфильтруем df0 по groups==Control,выборка А\n",
        "dfA = df0[df0.groups=='Control']\n",
        "#отфильтруем df0 по groups==Test,выборка B\n",
        "dfB = df0[df0.groups=='Test'] \n",
        "# выбираем нужное количество строк, чтоб выборки А(знач.\"Control\") и В(знач.\"Test\") были одинаковыми\n",
        "dfB = dfB.iloc[0:30372] \n",
        "dfA = dfA.iloc[0:30372]\n",
        "print(dfA.groups.value_counts())\n",
        "print(dfB.groups.value_counts())"
      ],
      "execution_count": null,
      "outputs": [
        {
          "output_type": "stream",
          "name": "stdout",
          "text": [
            "Control    30372\n",
            "Name: groups, dtype: int64\n",
            "Test    30372\n",
            "Name: groups, dtype: int64\n"
          ]
        }
      ]
    },
    {
      "cell_type": "code",
      "metadata": {
        "id": "MH9xRa_F660X"
      },
      "source": [
        "#Разбиваем тестовую выборку на 7 равных частей\n",
        "dfB1 = dfB.iloc[0:4338]\n",
        "dfB2 = dfB.iloc[4339:8677]\n",
        "dfB3 = dfB.iloc[8678:13016]\n",
        "dfB4 = dfB.iloc[13017:17355]\n",
        "dfB5 = dfB.iloc[17356:21694]\n",
        "dfB6 = dfB.iloc[21695:26033]\n",
        "dfB7 = dfB.iloc[26034:30372]\n",
        "dfA1 = dfA.iloc[0:4338]# Уравниваем контрольную выборку с тестовыми\n",
        "dfA2 = dfA.iloc[4339:8677]\n",
        "dfA3 = dfA.iloc[8678:13016]\n",
        "dfA4 = dfA.iloc[13017:17355]\n",
        "dfA5 = dfA.iloc[17356:21694]\n",
        "dfA6 = dfA.iloc[21695:26033]\n",
        "dfA7 = dfA.iloc[26034:30372]"
      ],
      "execution_count": null,
      "outputs": []
    },
    {
      "cell_type": "code",
      "metadata": {
        "colab": {
          "base_uri": "https://localhost:8080/"
        },
        "id": "NCaXzShH1B4M",
        "outputId": "fed873fc-2edf-40c4-cdd4-f70fa8b83aa1"
      },
      "source": [
        "A = dfA1[['order_made']]  # контрольная выборка А с одним столбцом order_made\n",
        "B1 = dfB1[['order_made']] # выборка B1 с одним столбцом order_made\n",
        "t, p_value = stats.ttest_ind(A, B1) #p_value и Критерий Стьюдента (t-test)\n",
        "print(t, p_value)\n",
        "print(stats.ttest_ind(A, B1, equal_var = False))"
      ],
      "execution_count": null,
      "outputs": [
        {
          "output_type": "stream",
          "name": "stdout",
          "text": [
            "[-0.27991351] [0.77955054]\n",
            "Ttest_indResult(statistic=array([-0.27991351]), pvalue=array([0.77955054]))\n"
          ]
        }
      ]
    },
    {
      "cell_type": "code",
      "metadata": {
        "colab": {
          "base_uri": "https://localhost:8080/"
        },
        "id": "CLKf7WgZ9iva",
        "outputId": "99abaf9b-482e-4db5-ac10-872bc20429cf"
      },
      "source": [
        "A = dfA2[['order_made']]\n",
        "B2 = dfB2[['order_made']] # выборка B2 с одним столбцом order_made\n",
        "t, p_value = stats.ttest_ind(A, B2) #p_value иКритерий Стьюдента (t-test)\n",
        "print(t, p_value)\n",
        "print(stats.ttest_ind(A, B2, equal_var = False))"
      ],
      "execution_count": null,
      "outputs": [
        {
          "output_type": "stream",
          "name": "stdout",
          "text": [
            "[-2.02156749] [0.0432517]\n",
            "Ttest_indResult(statistic=array([-2.02156749]), pvalue=array([0.04325171]))\n"
          ]
        }
      ]
    },
    {
      "cell_type": "code",
      "metadata": {
        "colab": {
          "base_uri": "https://localhost:8080/"
        },
        "id": "Fru7sW_M91-w",
        "outputId": "c1c14b90-784d-4770-da31-b90683cac5e5"
      },
      "source": [
        "A = dfA3[['order_made']]\n",
        "B3 = dfB3[['order_made']] # выборка B3 с одним столбцом order_made\n",
        "t, p_value = stats.ttest_ind(A, B3) #p_value иКритерий Стьюдента (t-test)\n",
        "print(t, p_value)\n",
        "print(stats.ttest_ind(A, B3, equal_var = False))"
      ],
      "execution_count": null,
      "outputs": [
        {
          "output_type": "stream",
          "name": "stdout",
          "text": [
            "[-3.1865528] [0.0014449]\n",
            "Ttest_indResult(statistic=array([-3.1865528]), pvalue=array([0.0014449]))\n"
          ]
        }
      ]
    },
    {
      "cell_type": "code",
      "metadata": {
        "colab": {
          "base_uri": "https://localhost:8080/"
        },
        "id": "VMAiCgic-JvN",
        "outputId": "e8a0399c-8b67-4053-e7e2-62fc33809196"
      },
      "source": [
        "A = dfA4[['order_made']]\n",
        "B4 = dfB4[['order_made']] # выборка B4 с одним столбцом order_made\n",
        "t, p_value = stats.ttest_ind(A, B4) #p_value иКритерий Стьюдента (t-test)\n",
        "print(t, p_value)\n",
        "print(stats.ttest_ind(A, B4, equal_var = False))"
      ],
      "execution_count": null,
      "outputs": [
        {
          "output_type": "stream",
          "name": "stdout",
          "text": [
            "[-1.89653436] [0.05792261]\n",
            "Ttest_indResult(statistic=array([-1.89653436]), pvalue=array([0.05792262]))\n"
          ]
        }
      ]
    },
    {
      "cell_type": "code",
      "metadata": {
        "colab": {
          "base_uri": "https://localhost:8080/"
        },
        "id": "g-KOGqze-R6u",
        "outputId": "14c79563-27bf-4adb-8a33-0ef4029d454a"
      },
      "source": [
        "A = dfA5[['order_made']]\n",
        "B5 = dfB5[['order_made']] # выборка B5 с одним столбцом order_made\n",
        "t, p_value = stats.ttest_ind(A, B5) #p_value иКритерий Стьюдента (t-test)\n",
        "print(t, p_value)\n",
        "print(stats.ttest_ind(A, B5, equal_var = False))"
      ],
      "execution_count": null,
      "outputs": [
        {
          "output_type": "stream",
          "name": "stdout",
          "text": [
            "[-1.69130389] [0.0908147]\n",
            "Ttest_indResult(statistic=array([-1.69130389]), pvalue=array([0.09081471]))\n"
          ]
        }
      ]
    },
    {
      "cell_type": "code",
      "metadata": {
        "colab": {
          "base_uri": "https://localhost:8080/"
        },
        "id": "T3-IfkOi-dNR",
        "outputId": "08b343a0-7206-4561-f8b3-d3514d80cf3b"
      },
      "source": [
        "A = dfA6[['order_made']]\n",
        "B6 = dfB6[['order_made']] # выборка B6 с одним столбцом order_made\n",
        "t, p_value = stats.ttest_ind(A, B6) #p_value иКритерий Стьюдента (t-test)\n",
        "print(t, p_value)\n",
        "print(stats.ttest_ind(A, B6, equal_var = False))"
      ],
      "execution_count": null,
      "outputs": [
        {
          "output_type": "stream",
          "name": "stdout",
          "text": [
            "[-1.06132542] [0.28857159]\n",
            "Ttest_indResult(statistic=array([-1.06132542]), pvalue=array([0.28857159]))\n"
          ]
        }
      ]
    },
    {
      "cell_type": "code",
      "metadata": {
        "colab": {
          "base_uri": "https://localhost:8080/"
        },
        "id": "WsZ2odYi-ijJ",
        "outputId": "b5acec18-f8e5-470b-dfbf-1c4b10d82a02"
      },
      "source": [
        "A = dfA7[['order_made']]\n",
        "B7 = dfB7[['order_made']] # выборка B7 с одним столбцом order_made\n",
        "t, p_value = stats.ttest_ind(A, B7) #p_value иКритерий Стьюдента (t-test)\n",
        "print(t, p_value)\n",
        "print(stats.ttest_ind(A, B7, equal_var = False))"
      ],
      "execution_count": null,
      "outputs": [
        {
          "output_type": "stream",
          "name": "stdout",
          "text": [
            "[-2.73411863] [0.00626744]\n",
            "Ttest_indResult(statistic=array([-2.73411863]), pvalue=array([0.00626745]))\n"
          ]
        }
      ]
    },
    {
      "cell_type": "code",
      "metadata": {
        "colab": {
          "base_uri": "https://localhost:8080/",
          "height": 461
        },
        "id": "KzaHTsd_uFYv",
        "outputId": "55f616f8-e226-4615-8984-2e186567eab6"
      },
      "source": [
        "# Периодический p-value не дает однозначного ответа стоит ли отвергать H0 и принимать H1.\n",
        "# Со второго временного промежутка альтенативная гипотеза(H1) имеет стат.значимое подтверждение:\n",
        "# предлагаемый владельцам Android промокод снижает отмены поездок. Имеется промежуток (c 3 по 5),\n",
        "# когда H1 перестает иметь стат.значимое подтверждение, что требует отдельного изучения.\n",
        "\n",
        "x = [0.77955054,0.04325171,0.0014449,0.05792262, 0.09081471,0.28857159,0.00626745]\n",
        "plt.figure(figsize=(12, 7))\n",
        "\n",
        "plt.plot(x, 'o-b',label=\"p-value\", lw=5,alpha=0.7, mec='b', mew=2,ms=10)\n",
        "plt.axhline(y=0.05, color='r', linestyle='-.',label=\"альфа-5%\")\n",
        "plt.legend()\n",
        "plt.grid(True)\n",
        "plt.title(\"Периодический p-value\")"
      ],
      "execution_count": null,
      "outputs": [
        {
          "output_type": "execute_result",
          "data": {
            "text/plain": [
              "Text(0.5, 1.0, 'Периодический p-value')"
            ]
          },
          "metadata": {},
          "execution_count": 31
        },
        {
          "output_type": "display_data",
          "data": {
            "image/png": "[encoded data removed]",
            "text/plain": [
              "<Figure size 864x504 with 1 Axes>"
            ]
          },
          "metadata": {
            "needs_background": "light"
          }
        }
      ]
    }
  ]
}